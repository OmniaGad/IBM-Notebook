{
 "cells": [
  {
   "cell_type": "markdown",
   "metadata": {},
   "source": [
    "<center>\n",
    "    <img src=\"https://s3-api.us-geo.objectstorage.softlayer.net/cf-courses-data/CognitiveClass/Logos/organization_logo/organization_logo.png\" width=\"300\" alt=\"cognitiveclass.ai logo\"  />\n",
    "</center>\n"
   ]
  },
  {
   "cell_type": "markdown",
   "metadata": {},
   "source": [
    "#### Add your code below following the instructions given in the course\n"
   ]
  },
  {
   "cell_type": "markdown",
   "metadata": {},
   "source": [
    "<h1>My Jupyter Notebook on IBM Watson Studio</h1>"
   ]
  },
  {
   "cell_type": "markdown",
   "metadata": {},
   "source": [
    "__Omnia Gad__<br>\n",
    "Data Scientist"
   ]
  },
  {
   "cell_type": "markdown",
   "metadata": {},
   "source": [
    "_I am interested in data science because I have been reading about data analytics for the past year and I believe that all businesses rely on data. Also, I applied some tutorials on Microsoft Azure and enjoyed the machine learning part a lot._"
   ]
  },
  {
   "cell_type": "markdown",
   "metadata": {},
   "source": [
    "<h3>Converting meters to centimeters</h3>"
   ]
  },
  {
   "cell_type": "code",
   "execution_count": 3,
   "metadata": {},
   "outputs": [
    {
     "name": "stdout",
     "output_type": "stream",
     "text": [
      "The length in centimeters is equal to 400\n"
     ]
    }
   ],
   "source": [
    "conversion_constant = 100\n",
    "length_in_meters = 4\n",
    "length_in_cm = length_in_meters * conversion_constant\n",
    "print(\"The length in centimeters is equal to\",length_in_cm)"
   ]
  },
  {
   "cell_type": "markdown",
   "metadata": {},
   "source": [
    "| Country | Capital |\n",
    "| ---- | ---- |\n",
    "| Egypt | Cairo |\n",
    "| Spain | Madrid |\n",
    "| Germany | Berlin |\n",
    "| Philippines | Manila |\n",
    "| Sweden | Stockholm |\n",
    "| Argentina | Buenos Aires |\n",
    "| Ireland | Dublin |\n",
    "| Greece | Athens |\n",
    "\n",
    "Countries I want to visit someday:\n",
    "<ul>\n",
    "    <li>Portugal</li>\n",
    "    <li>Sri Lanka</li>\n",
    "    <li>Spain</li>\n",
    "    <li>Brazil</li>\n",
    "    <li>Mexico</li>\n",
    "    <li>Iceland</li>\n",
    "    <li>Norway</li>\n",
    "    <li>Chile</li>\n",
    "    <li>New Zealand</li>\n",
    "</ul>\n",
    "\n",
    "You can find your travelling guide on <a href=\"https://www.lonelyplanet.com/\">Lonely Planet</a>"
   ]
  }
 ],
 "metadata": {
  "kernelspec": {
   "display_name": "Python",
   "language": "python",
   "name": "conda-env-python-py"
  },
  "language_info": {
   "codemirror_mode": {
    "name": "ipython",
    "version": 3
   },
   "file_extension": ".py",
   "mimetype": "text/x-python",
   "name": "python",
   "nbconvert_exporter": "python",
   "pygments_lexer": "ipython3",
   "version": "3.7.12"
  }
 },
 "nbformat": 4,
 "nbformat_minor": 4
}
